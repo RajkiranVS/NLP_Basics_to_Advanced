{
 "cells": [
  {
   "cell_type": "code",
   "execution_count": 1,
   "metadata": {},
   "outputs": [
    {
     "data": {
      "text/plain": [
       "'This is a sample sentence.\\n This is another sample sentence.'"
      ]
     },
     "execution_count": 1,
     "metadata": {},
     "output_type": "execute_result"
    }
   ],
   "source": [
    "# String literals\n",
    "text = ('This is a sample sentence.\\n This is another sample sentence.')\n",
    "text"
   ]
  },
  {
   "cell_type": "code",
   "execution_count": 2,
   "metadata": {},
   "outputs": [
    {
     "name": "stdout",
     "output_type": "stream",
     "text": [
      "This is a sample sentence.\n",
      " This is another sample sentence.\n"
     ]
    }
   ],
   "source": [
    "print(text)"
   ]
  },
  {
   "cell_type": "code",
   "execution_count": 5,
   "metadata": {},
   "outputs": [
    {
     "name": "stdout",
     "output_type": "stream",
     "text": [
      "Original sentence: This is a sample sentence.\n",
      " This is another sample sentence.\n",
      "In all lower: this is a sample sentence.\n",
      " this is another sample sentence.\n",
      "In all UPPER: THIS IS A SAMPLE SENTENCE.\n",
      " THIS IS ANOTHER SAMPLE SENTENCE.\n"
     ]
    }
   ],
   "source": [
    "#Case conversion\n",
    "print(\"Original sentence:\", text)\n",
    "print(\"In all lower:\", text.lower())\n",
    "print(\"In all UPPER:\", text.upper())"
   ]
  },
  {
   "cell_type": "code",
   "execution_count": 6,
   "metadata": {},
   "outputs": [
    {
     "name": "stdout",
     "output_type": "stream",
     "text": [
      "This is the original sentence:This is a sample sentence.\n",
      " This is another sample sentence.\n",
      " This is sentence in all lower:this is a sample sentence.\n",
      " this is another sample sentence.\n",
      "This is sentence in all UPPER:THIS IS A SAMPLE SENTENCE.\n",
      " THIS IS ANOTHER SAMPLE SENTENCE.\n"
     ]
    }
   ],
   "source": [
    "#Getting the case conversion in a single line\n",
    "print(f'This is the original sentence:{text}\\n This is sentence in all lower:{text.lower()}\\nThis is sentence in all UPPER:{text.upper()}')"
   ]
  }
 ],
 "metadata": {
  "kernelspec": {
   "display_name": "Python 3",
   "language": "python",
   "name": "python3"
  },
  "language_info": {
   "codemirror_mode": {
    "name": "ipython",
    "version": 3
   },
   "file_extension": ".py",
   "mimetype": "text/x-python",
   "name": "python",
   "nbconvert_exporter": "python",
   "pygments_lexer": "ipython3",
   "version": "3.6.9"
  }
 },
 "nbformat": 4,
 "nbformat_minor": 2
}
