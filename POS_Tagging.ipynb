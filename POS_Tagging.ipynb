{
 "cells": [
  {
   "cell_type": "code",
   "execution_count": 1,
   "metadata": {},
   "outputs": [],
   "source": [
    "# Load the spacy model and language model object\n",
    "import spacy\n",
    "lingua = spacy.load('en_core_web_sm')"
   ]
  },
  {
   "cell_type": "code",
   "execution_count": 2,
   "metadata": {},
   "outputs": [],
   "source": [
    "#create a function to read file contents to a spacy document.\n",
    "def read_file(fp):\n",
    "    with open(fp) as f:\n",
    "        doc = lingua(f.read())\n",
    "    return doc"
   ]
  },
  {
   "cell_type": "code",
   "execution_count": 3,
   "metadata": {},
   "outputs": [],
   "source": [
    "doc = read_file('Large_Text.text')"
   ]
  },
  {
   "cell_type": "code",
   "execution_count": 4,
   "metadata": {},
   "outputs": [
    {
     "name": "stdout",
     "output_type": "stream",
     "text": [
      "Mr. Sherlock Holmes, who was usually\n",
      "very late in the mornings, save upon\n",
      "those not infrequent occasions\n"
     ]
    }
   ],
   "source": [
    "print(doc[:21])"
   ]
  },
  {
   "cell_type": "code",
   "execution_count": 5,
   "metadata": {},
   "outputs": [
    {
     "name": "stdout",
     "output_type": "stream",
     "text": [
      "Mr. : PROPN\n",
      "Sherlock : PROPN\n",
      "Holmes : PROPN\n",
      ", : PUNCT\n",
      "who : PRON\n",
      "was : AUX\n",
      "usually : ADV\n",
      "\n",
      " : SPACE\n",
      "very : ADV\n",
      "late : ADV\n",
      "in : ADP\n",
      "the : DET\n",
      "mornings : NOUN\n",
      ", : PUNCT\n",
      "save : VERB\n",
      "upon : SCONJ\n",
      "\n",
      " : SPACE\n",
      "those : DET\n",
      "not : PART\n",
      "infrequent : ADJ\n",
      "occasions : NOUN\n"
     ]
    }
   ],
   "source": [
    "for token in doc[:21]:\n",
    "    print(token.text,':',token.pos_)"
   ]
  },
  {
   "cell_type": "code",
   "execution_count": 6,
   "metadata": {},
   "outputs": [
    {
     "name": "stdout",
     "output_type": "stream",
     "text": [
      "Mr.         ......> PROPN               proper noun\n",
      "Sherlock    ......> PROPN               proper noun\n",
      "Holmes      ......> PROPN               proper noun\n",
      ",           ......> PUNCT               punctuation\n",
      "who         ......> PRON                pronoun\n",
      "was         ......> AUX                 auxiliary\n",
      "usually     ......> ADV                 adverb\n",
      "\n",
      "           ......> SPACE               space\n",
      "very        ......> ADV                 adverb\n",
      "late        ......> ADV                 adverb\n",
      "in          ......> ADP                 adposition\n",
      "the         ......> DET                 determiner\n",
      "mornings    ......> NOUN                noun\n",
      ",           ......> PUNCT               punctuation\n",
      "save        ......> VERB                verb\n",
      "upon        ......> SCONJ               subordinating conjunction\n",
      "\n",
      "           ......> SPACE               space\n",
      "those       ......> DET                 determiner\n",
      "not         ......> PART                particle\n",
      "infrequent  ......> ADJ                 adjective\n",
      "occasions   ......> NOUN                noun\n"
     ]
    }
   ],
   "source": [
    "#Print the POS in proper format\n",
    "for token in doc[:21]:\n",
    "    print(f'{token.text:12}......> {token.pos_:20}{spacy.explain(token.pos_)}')"
   ]
  },
  {
   "cell_type": "code",
   "execution_count": 7,
   "metadata": {},
   "outputs": [
    {
     "name": "stdout",
     "output_type": "stream",
     "text": [
      "Mr.         ......> compound            compound\n",
      "Sherlock    ......> compound            compound\n",
      "Holmes      ......> nsubj               nominal subject\n",
      ",           ......> punct               punctuation\n",
      "who         ......> nsubj               nominal subject\n",
      "was         ......> relcl               relative clause modifier\n",
      "usually     ......> advmod              adverbial modifier\n",
      "\n",
      "           ......>                     None\n",
      "very        ......> advmod              adverbial modifier\n",
      "late        ......> acomp               adjectival complement\n",
      "in          ......> prep                prepositional modifier\n",
      "the         ......> det                 determiner\n",
      "mornings    ......> pobj                object of preposition\n",
      ",           ......> punct               punctuation\n",
      "save        ......> ROOT                None\n",
      "upon        ......> prep                prepositional modifier\n",
      "\n",
      "           ......>                     None\n",
      "those       ......> det                 determiner\n",
      "not         ......> neg                 negation modifier\n",
      "infrequent  ......> amod                adjectival modifier\n",
      "occasions   ......> dobj                direct object\n"
     ]
    }
   ],
   "source": [
    "#Print the DET in proper format\n",
    "for token in doc[:21]:\n",
    "    print(f'{token.text:12}......> {token.dep_:20}{spacy.explain(token.dep_)}')"
   ]
  }
 ],
 "metadata": {
  "kernelspec": {
   "display_name": "Python 3",
   "language": "python",
   "name": "python3"
  },
  "language_info": {
   "codemirror_mode": {
    "name": "ipython",
    "version": 3
   },
   "file_extension": ".py",
   "mimetype": "text/x-python",
   "name": "python",
   "nbconvert_exporter": "python",
   "pygments_lexer": "ipython3",
   "version": "3.6.9"
  }
 },
 "nbformat": 4,
 "nbformat_minor": 2
}
